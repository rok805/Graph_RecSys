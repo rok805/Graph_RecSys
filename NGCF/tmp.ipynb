{
 "cells": [
  {
   "cell_type": "code",
   "execution_count": 13,
   "id": "2e121492-40e5-49e3-a0b5-99f06a87f394",
   "metadata": {},
   "outputs": [],
   "source": [
    "import torch\n",
    "import torch.optim as optim\n",
    "\n",
    "from NGCF import NGCF\n",
    "\n",
    "from utility.helper import *"
   ]
  },
  {
   "cell_type": "code",
   "execution_count": 14,
   "id": "72388e4c-ca82-4d18-88c3-09b600e8b40e",
   "metadata": {
    "tags": []
   },
   "outputs": [
    {
     "name": "stderr",
     "output_type": "stream",
     "text": [
      "usage: ipykernel_launcher.py [-h] [--weights_path [WEIGHTS_PATH]] [--data_path [DATA_PATH]] [--proj_path [PROJ_PATH]]\n",
      "                             [--dataset [DATASET]] [--pretrain PRETRAIN] [--verbose VERBOSE] [--epoch EPOCH] [--embed_size EMBED_SIZE]\n",
      "                             [--layer_size [LAYER_SIZE]] [--batch_size BATCH_SIZE] [--regs [REGS]] [--lr LR] [--model_type [MODEL_TYPE]]\n",
      "                             [--adj_type [ADJ_TYPE]] [--gpu_id GPU_ID] [--node_dropout_flag NODE_DROPOUT_FLAG]\n",
      "                             [--node_dropout [NODE_DROPOUT]] [--mess_dropout [MESS_DROPOUT]] [--Ks [KS]] [--save_flag SAVE_FLAG]\n",
      "                             [--test_flag [TEST_FLAG]] [--report REPORT]\n",
      "ipykernel_launcher.py: error: unrecognized arguments: -f /home/rok/.local/share/jupyter/runtime/kernel-935a6840-6506-46c2-9962-9f650370436e.json\n"
     ]
    },
    {
     "ename": "SystemExit",
     "evalue": "2",
     "output_type": "error",
     "traceback": [
      "An exception has occurred, use %tb to see the full traceback.\n",
      "\u001b[0;31mSystemExit\u001b[0m\u001b[0;31m:\u001b[0m 2\n"
     ]
    }
   ],
   "source": [
    "from utility.batch_test import *\n"
   ]
  },
  {
   "cell_type": "code",
   "execution_count": 25,
   "id": "9ab5d9c2-9fda-4218-bdbb-7eac802ccea3",
   "metadata": {},
   "outputs": [],
   "source": [
    "import warnings\n",
    "warnings.filterwarnings('ignore')\n",
    "from time import time"
   ]
  },
  {
   "cell_type": "markdown",
   "id": "3044a447-d569-4d93-8bd4-ec5ee42e566a",
   "metadata": {},
   "source": [
    "* load_data.py 역할"
   ]
  },
  {
   "cell_type": "code",
   "execution_count": 63,
   "id": "ed3cbec5-5268-432b-a98b-4ee602b5684f",
   "metadata": {},
   "outputs": [
    {
     "name": "stdout",
     "output_type": "stream",
     "text": [
      "n_users=52643, n_items=91599\n",
      "n_interactions=2984108\n",
      "n_train=2380730, n_test=603378, sparsity=0.00062\n"
     ]
    }
   ],
   "source": [
    "data_path = '../Data/' #절대경로\n",
    "dataset = 'amazon-book' #절대경로\n",
    "batch_size = 1024 #절대경로\n",
    "data_generator = Data(path=data_path + dataset, batch_size=batch_size)"
   ]
  },
  {
   "cell_type": "markdown",
   "id": "a2f1400c-ee57-43bd-8e02-9372bec64dd9",
   "metadata": {},
   "source": [
    "* load_data >>> Data클래스 >>> data_generator 인스턴스의 변수"
   ]
  },
  {
   "cell_type": "code",
   "execution_count": 22,
   "id": "81f93b61-87cb-4397-b0c8-ca6e8eada67c",
   "metadata": {},
   "outputs": [],
   "source": [
    "USR_NUM, ITEM_NUM = data_generator.n_users, data_generator.n_items\n",
    "N_TRAIN, N_TEST = data_generator.n_train, data_generator.n_test\n",
    "BATCH_SIZE = batch_size"
   ]
  },
  {
   "cell_type": "code",
   "execution_count": 23,
   "id": "94f916bb-1fcf-4a48-b608-9341a4a5b55c",
   "metadata": {},
   "outputs": [
    {
     "data": {
      "text/plain": [
       "(52643, 91599, 2380730, 603378, 1024)"
      ]
     },
     "execution_count": 23,
     "metadata": {},
     "output_type": "execute_result"
    }
   ],
   "source": [
    "USR_NUM, ITEM_NUM, N_TRAIN, N_TEST, BATCH_SIZE"
   ]
  },
  {
   "cell_type": "code",
   "execution_count": 32,
   "id": "6e78fe76-00af-46cc-96b0-828f4d8e4367",
   "metadata": {},
   "outputs": [
    {
     "name": "stdout",
     "output_type": "stream",
     "text": [
      " data_generator.exist_users[:10] = [0, 1, 2, 3, 4, 5, 6, 7, 8, 9]\n"
     ]
    }
   ],
   "source": [
    "print(f' data_generator.exist_users[:10] = {data_generator.exist_users[:10]}')"
   ]
  },
  {
   "cell_type": "code",
   "execution_count": 34,
   "id": "0a22e181-4c3a-4346-8262-9687b416e44f",
   "metadata": {},
   "outputs": [
    {
     "name": "stdout",
     "output_type": "stream",
     "text": [
      "n_users=52643, n_items=91599\n",
      "n_interactions=2984108\n",
      "n_train=2380730, n_test=603378, sparsity=0.00062\n"
     ]
    }
   ],
   "source": [
    "data_generator.print_statistics()"
   ]
  },
  {
   "cell_type": "code",
   "execution_count": 35,
   "id": "a8b4e61c-25c3-47b6-a0d5-fc61c130809a",
   "metadata": {},
   "outputs": [],
   "source": [
    "#scipy의 sparse 함수\n",
    "data_generator.R = sp.dok_matrix((data_generator.n_users, data_generator.n_items), dtype=np.float32)"
   ]
  },
  {
   "cell_type": "code",
   "execution_count": 64,
   "id": "0d280318-c6e5-4ae5-9fb3-9cd5d0412050",
   "metadata": {},
   "outputs": [
    {
     "data": {
      "text/plain": [
       "<52643x91599 sparse matrix of type '<class 'numpy.float32'>'\n",
       "\twith 2380730 stored elements in Dictionary Of Keys format>"
      ]
     },
     "execution_count": 64,
     "metadata": {},
     "output_type": "execute_result"
    }
   ],
   "source": [
    "data_generator.R"
   ]
  },
  {
   "cell_type": "code",
   "execution_count": 45,
   "id": "0ba97e5b-e69f-4573-97a3-adf4b95a46d7",
   "metadata": {},
   "outputs": [
    {
     "data": {
      "text/plain": [
       "[24644, 39134, 27389]"
      ]
     },
     "execution_count": 45,
     "metadata": {},
     "output_type": "execute_result"
    }
   ],
   "source": [
    "#train set에서 1234번 user의 구매아이템\n",
    "data_generator.train_items[1234][:3]"
   ]
  },
  {
   "cell_type": "markdown",
   "id": "d285fb2b-b254-4724-ad2f-a65e6008f872",
   "metadata": {},
   "source": [
    "* 다시 main.py"
   ]
  },
  {
   "cell_type": "code",
   "execution_count": 49,
   "id": "e254e014-624e-4558-b1d3-a8126380f453",
   "metadata": {},
   "outputs": [
    {
     "data": {
      "text/plain": [
       "device(type='cuda', index=0)"
      ]
     },
     "execution_count": 49,
     "metadata": {},
     "output_type": "execute_result"
    }
   ],
   "source": [
    "gpu_id=0\n",
    "device = torch.device('cuda:' + str(gpu_id))\n",
    "device"
   ]
  },
  {
   "cell_type": "markdown",
   "id": "7fdfe07a-feef-42b5-84eb-72e58870e6ca",
   "metadata": {},
   "source": [
    "* load_data.py >>> get_adj_mat 실행  >>> create_adj_mat 함수 >>> adj_mat, norm_mat, mean_mat 생성"
   ]
  },
  {
   "cell_type": "code",
   "execution_count": 65,
   "id": "dae0b800-6d13-4bbe-93af-faf7a3931a2a",
   "metadata": {},
   "outputs": [],
   "source": [
    "#adj 생성\n",
    "adj_mat = sp.dok_matrix((data_generator.n_users + data_generator.n_items, data_generator.n_users + data_generator.n_items), dtype=np.float32) # (사용자수+아이템수) x (사용자수+아이템수) 깡통 행렬 생성\n",
    "adj_mat = adj_mat.tolil() # matrix를 list속 list형태로 변환\n",
    "tmp_R = data_generator.R.tolil() # (사용자수)x(아이템수) tolil 변환\n"
   ]
  },
  {
   "cell_type": "code",
   "execution_count": 73,
   "id": "02e0fb94-2d96-4655-881e-1eae258b78ae",
   "metadata": {},
   "outputs": [
    {
     "data": {
      "text/plain": [
       "<1x91599 sparse matrix of type '<class 'numpy.float32'>'\n",
       "\twith 53 stored elements in List of Lists format>"
      ]
     },
     "execution_count": 73,
     "metadata": {},
     "output_type": "execute_result"
    }
   ],
   "source": [
    "tmp_R[0]"
   ]
  },
  {
   "cell_type": "code",
   "execution_count": 74,
   "id": "498f008e-77b3-4b8b-b3de-8863fd446dc5",
   "metadata": {},
   "outputs": [],
   "source": [
    "adj_mat[:data_generator.n_users, data_generator.n_users:] = tmp_R"
   ]
  },
  {
   "cell_type": "code",
   "execution_count": 75,
   "id": "baea92c2-dd28-450c-bce9-073fa3fdd2ca",
   "metadata": {},
   "outputs": [],
   "source": [
    "adj_mat[data_generator.n_users:, :data_generator.n_users] = tmp_R.T"
   ]
  },
  {
   "cell_type": "code",
   "execution_count": 86,
   "id": "18439bab-45ac-4292-a049-d37a174bc618",
   "metadata": {},
   "outputs": [
    {
     "data": {
      "text/plain": [
       "<1x144242 sparse matrix of type '<class 'numpy.float32'>'\n",
       "\twith 53 stored elements in Dictionary Of Keys format>"
      ]
     },
     "execution_count": 86,
     "metadata": {},
     "output_type": "execute_result"
    }
   ],
   "source": [
    "#인접행렬내 0번사용자의 벡터\n",
    "adj_mat[0]"
   ]
  },
  {
   "cell_type": "code",
   "execution_count": 78,
   "id": "9f502192-7c53-4834-8305-c0aa3317adff",
   "metadata": {},
   "outputs": [],
   "source": [
    "adj_mat = adj_mat.todok() # matrix를 딕셔너리의 형태로 변환"
   ]
  },
  {
   "cell_type": "code",
   "execution_count": 82,
   "id": "b81d9105-1bb6-4d86-aa62-11d8db13bd81",
   "metadata": {},
   "outputs": [
    {
     "data": {
      "text/plain": [
       "scipy.sparse._dok.dok_matrix"
      ]
     },
     "execution_count": 82,
     "metadata": {},
     "output_type": "execute_result"
    }
   ],
   "source": [
    "type(adj_mat)"
   ]
  },
  {
   "cell_type": "code",
   "execution_count": 50,
   "id": "608f1206-a61e-40e1-ba4c-f525f2431c68",
   "metadata": {},
   "outputs": [
    {
     "name": "stdout",
     "output_type": "stream",
     "text": [
      "already create adjacency matrix (144242, 144242) 189.67632484436035\n",
      "generate single-normalized adjacency matrix.\n",
      "generate single-normalized adjacency matrix.\n",
      "already normalize adjacency matrix 0.041094303131103516\n"
     ]
    }
   ],
   "source": [
    "plain_adj, norm_adj, mean_adj = data_generator.get_adj_mat()"
   ]
  },
  {
   "cell_type": "code",
   "execution_count": 87,
   "id": "787f1d53-f2ec-440d-a63f-3d0793ea05cd",
   "metadata": {},
   "outputs": [],
   "source": [
    "rowsum = np.array(adj_mat.sum(1))"
   ]
  },
  {
   "cell_type": "code",
   "execution_count": 89,
   "id": "75274d87-055f-43b2-830f-5078449d0257",
   "metadata": {},
   "outputs": [
    {
     "data": {
      "text/plain": [
       "(144242, 1)"
      ]
     },
     "execution_count": 89,
     "metadata": {},
     "output_type": "execute_result"
    }
   ],
   "source": [
    "rowsum.shape"
   ]
  },
  {
   "cell_type": "code",
   "execution_count": 91,
   "id": "c98c23c3-0a2a-4dc6-9534-43eee4020a1d",
   "metadata": {},
   "outputs": [
    {
     "data": {
      "text/plain": [
       "array([328.], dtype=float32)"
      ]
     },
     "execution_count": 91,
     "metadata": {},
     "output_type": "execute_result"
    }
   ],
   "source": [
    "rowsum[1]"
   ]
  },
  {
   "cell_type": "code",
   "execution_count": 92,
   "id": "52562f0b-d17c-4272-856f-e660d3de4ec6",
   "metadata": {},
   "outputs": [],
   "source": [
    "d_inv = np.power(rowsum, -1).flatten()"
   ]
  },
  {
   "cell_type": "code",
   "execution_count": 95,
   "id": "4b54aefc-9ba1-46c5-babe-2aa42d519f85",
   "metadata": {},
   "outputs": [],
   "source": [
    "d_mat_inv = sp.diags(d_inv)"
   ]
  },
  {
   "cell_type": "code",
   "execution_count": 100,
   "id": "e0990243-287b-420f-9ba3-19f07de79cd1",
   "metadata": {},
   "outputs": [
    {
     "data": {
      "text/plain": [
       "<144242x144242 sparse matrix of type '<class 'numpy.float32'>'\n",
       "\twith 144242 stored elements (1 diagonals) in DIAgonal format>"
      ]
     },
     "execution_count": 100,
     "metadata": {},
     "output_type": "execute_result"
    }
   ],
   "source": [
    "d_mat_inv"
   ]
  },
  {
   "cell_type": "code",
   "execution_count": 102,
   "id": "86f9e510-a18c-4cea-8106-90618664d33c",
   "metadata": {},
   "outputs": [
    {
     "data": {
      "text/plain": [
       "<144242x144242 sparse matrix of type '<class 'numpy.float32'>'\n",
       "\twith 4761460 stored elements in Dictionary Of Keys format>"
      ]
     },
     "execution_count": 102,
     "metadata": {},
     "output_type": "execute_result"
    }
   ],
   "source": [
    "adj_mat"
   ]
  },
  {
   "cell_type": "code",
   "execution_count": 104,
   "id": "b15ad4cc-4661-422d-af28-50dc07933908",
   "metadata": {},
   "outputs": [],
   "source": [
    "norm_adj = d_mat_inv.dot(adj_mat)"
   ]
  },
  {
   "cell_type": "code",
   "execution_count": 112,
   "id": "c6359dbf-b365-4d69-a1f5-552118129e6a",
   "metadata": {},
   "outputs": [
    {
     "data": {
      "text/plain": [
       "matrix([[ 53., 328.,  47., ...,   1.,   1.,   1.]], dtype=float32)"
      ]
     },
     "execution_count": 112,
     "metadata": {},
     "output_type": "execute_result"
    }
   ],
   "source": [
    "adj_mat.sum(0)"
   ]
  },
  {
   "cell_type": "code",
   "execution_count": 111,
   "id": "e2e63a39-8391-480e-8515-20a87d61f8d1",
   "metadata": {},
   "outputs": [
    {
     "data": {
      "text/plain": [
       "matrix([[ 1.966299  , 13.315645  ,  1.538288  , ...,  0.03571429,\n",
       "          0.0625    ,  0.0625    ]], dtype=float32)"
      ]
     },
     "execution_count": 111,
     "metadata": {},
     "output_type": "execute_result"
    }
   ],
   "source": [
    "norm_adj.sum(0)"
   ]
  },
  {
   "cell_type": "code",
   "execution_count": 115,
   "id": "4839aa26-50ad-425e-81d8-8d7cf540eb12",
   "metadata": {},
   "outputs": [
    {
     "data": {
      "text/plain": [
       "matrix([[0., 0., 0., ..., 0., 0., 0.]], dtype=float32)"
      ]
     },
     "execution_count": 115,
     "metadata": {},
     "output_type": "execute_result"
    }
   ],
   "source": [
    "mean_adj.sum(0)"
   ]
  },
  {
   "cell_type": "code",
   "execution_count": null,
   "id": "16c10e96-8b38-4cdd-a407-5eb8716b15b4",
   "metadata": {},
   "outputs": [],
   "source": [
    "\n",
    "\n",
    "\n",
    "\n",
    "args.node_dropout = eval(args.node_dropout)\n",
    "args.mess_dropout = eval(args.mess_dropout)\n",
    "\n",
    "model = NGCF(data_generator.n_users,\n",
    "             data_generator.n_items,\n",
    "             norm_adj,\n",
    "             args).to(args.device)\n",
    "\n",
    "t0 = time()\n",
    "\"\"\"\n",
    "*********************************************************\n",
    "Train.\n",
    "\"\"\"\n",
    "cur_best_pre_0, stopping_step = 0, 0\n",
    "optimizer = optim.Adam(model.parameters(), lr=args.lr)\n",
    "\n",
    "loss_loger, pre_loger, rec_loger, ndcg_loger, hit_loger = [], [], [], [], []"
   ]
  }
 ],
 "metadata": {
  "kernelspec": {
   "display_name": "Python 3 (ipykernel)",
   "language": "python",
   "name": "python3"
  },
  "language_info": {
   "codemirror_mode": {
    "name": "ipython",
    "version": 3
   },
   "file_extension": ".py",
   "mimetype": "text/x-python",
   "name": "python",
   "nbconvert_exporter": "python",
   "pygments_lexer": "ipython3",
   "version": "3.9.7"
  }
 },
 "nbformat": 4,
 "nbformat_minor": 5
}
